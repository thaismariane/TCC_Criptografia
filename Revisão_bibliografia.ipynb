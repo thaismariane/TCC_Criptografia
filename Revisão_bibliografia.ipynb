{
  "nbformat": 4,
  "nbformat_minor": 0,
  "metadata": {
    "colab": {
      "name": "Revisão_bibliografia.ipynb",
      "provenance": [],
      "collapsed_sections": []
    },
    "kernelspec": {
      "name": "python3",
      "display_name": "Python 3"
    },
    "language_info": {
      "name": "python"
    }
  },
  "cells": [
    {
      "cell_type": "code",
      "source": [
        "# FUNÇÃO DE DECOMPOSIÇÃO DE N\n",
        "fatores = []\n",
        "def derivacao (n,p):\n",
        "  if n > 1:\n",
        "    if n % p == 0:\n",
        "      fatores.append(p)\n",
        "      return derivacao(n/p, p)\n",
        "    else: return derivacao(n, p+1)\n",
        "  print(fatores)"
      ],
      "metadata": {
        "id": "uSOvSl3zNanP"
      },
      "execution_count": 5,
      "outputs": []
    },
    {
      "cell_type": "code",
      "source": [
        "derivacao(300,2)"
      ],
      "metadata": {
        "colab": {
          "base_uri": "https://localhost:8080/"
        },
        "id": "t1e2neLHN_C8",
        "outputId": "c949d784-111a-403a-af65-4a94677c9fe5"
      },
      "execution_count": 6,
      "outputs": [
        {
          "output_type": "stream",
          "name": "stdout",
          "text": [
            "[2, 2, 3, 5, 5]\n"
          ]
        }
      ]
    },
    {
      "cell_type": "code",
      "source": [
        "# FUNÇÃO DA IMPLEMENTAÇÃO DO ALGORITMO DE EUCLIDES\n",
        "\n",
        "def euclides (a, b):\n",
        "    if b==0: return a\n",
        "    else: return euclides(b, a % b)"
      ],
      "metadata": {
        "id": "A9I1PuDDPuOt"
      },
      "execution_count": 14,
      "outputs": []
    },
    {
      "cell_type": "code",
      "source": [
        "print(\"O MDC é entre 98786 e 56423 é: \", euclides(98786, 56423))"
      ],
      "metadata": {
        "colab": {
          "base_uri": "https://localhost:8080/"
        },
        "id": "eG_Nbp4YP4Km",
        "outputId": "779cf134-71af-40bc-9ab2-3153ab4bdec7"
      },
      "execution_count": 18,
      "outputs": [
        {
          "output_type": "stream",
          "name": "stdout",
          "text": [
            "O MDC é entre 98786 e 56423 é:  1\n"
          ]
        }
      ]
    },
    {
      "cell_type": "code",
      "source": [
        "from functools import reduce\n",
        "#FUNÇÃO ALGORITMO DE EUCLIDES ESTENDIDO\n",
        "def chines_resto(m, a):\n",
        "    sum = 0\n",
        "    prod = reduce(lambda a, b: a*b, m)\n",
        "    for m_i, a_i in zip(m, a):\n",
        "        p = prod // m_i\n",
        "        sum += a_i * mul_inv(p, m_i) * p\n",
        "    return sum % prod\n",
        "    \n",
        "#FUNÇÃO PARA ENCONTRAR O INVERSO MULTIPLICADOR\n",
        "def mul_inv(a, b):\n",
        "    b0 = b\n",
        "    x0, x1 = 0, 1\n",
        "    if b == 1: return 1\n",
        "    while a > 1:\n",
        "        q = a // b\n",
        "        a, b = b, a%b\n",
        "        x0, x1 = x1 - q * x0, x0\n",
        "    if x1 < 0: x1 += b0\n",
        "    return x1"
      ],
      "metadata": {
        "id": "vZ30I-efOjdq"
      },
      "execution_count": 11,
      "outputs": []
    },
    {
      "cell_type": "code",
      "source": [
        "m = [3, 5, 7]\n",
        "a = [2, 3, 2]\n",
        "print(chines_resto(m, a))\n",
        "print(\"inverso multiplicador: \", mul_inv(3, 17680))"
      ],
      "metadata": {
        "colab": {
          "base_uri": "https://localhost:8080/"
        },
        "id": "Fj2OZtYcOpbE",
        "outputId": "d2dc5c3c-1499-48f0-8b47-ae15e3eab453"
      },
      "execution_count": 12,
      "outputs": [
        {
          "output_type": "stream",
          "name": "stdout",
          "text": [
            "23\n",
            "inverso multiplicador:  11787\n"
          ]
        }
      ]
    },
    {
      "cell_type": "code",
      "source": [
        "#FUNÇÃO PARA TESTE DE PRIMALIDADE\n",
        "\n",
        "import random\n",
        "def miller_rabin(n,t):\n",
        "  if n == 2:\n",
        "    return True\n",
        "  if n % 2 == 0:\n",
        "    return False\n",
        "  m, k = 0, n - 1\n",
        "  while k % 2 == 0:\n",
        "    m += 1\n",
        "    k //= 2\n",
        "  for _ in range(t):\n",
        "    a = random.randrange(2, n - 1)\n",
        "    x = pow(a, k, n)\n",
        "    if x == 1 or x == n - 1:\n",
        "      continue\n",
        "    for _ in range(m - 1):\n",
        "      x = pow(x, 2, n)\n",
        "      if x == n - 1:\n",
        "        break\n",
        "      else:\n",
        "        return False\n",
        "    return True"
      ],
      "metadata": {
        "id": "KJ66x_OnRK7F"
      },
      "execution_count": 19,
      "outputs": []
    },
    {
      "cell_type": "code",
      "source": [
        "miller_rabin(197, 10)"
      ],
      "metadata": {
        "colab": {
          "base_uri": "https://localhost:8080/"
        },
        "id": "2xJI-iQWR_q2",
        "outputId": "b4f6ffa1-399c-4740-8e65-84e9de000fa7"
      },
      "execution_count": 20,
      "outputs": [
        {
          "output_type": "execute_result",
          "data": {
            "text/plain": [
              "True"
            ]
          },
          "metadata": {},
          "execution_count": 20
        }
      ]
    }
  ]
}